{
 "cells": [
  {
   "metadata": {
    "ExecuteTime": {
     "end_time": "2024-11-07T16:51:17.298922Z",
     "start_time": "2024-11-07T16:51:08.297368Z"
    }
   },
   "cell_type": "code",
   "source": "!pip install opencv-python==4.1.2.30",
   "id": "4027984d84f1cc2a",
   "outputs": [
    {
     "name": "stdout",
     "output_type": "stream",
     "text": [
      "\u001B[33mDEPRECATION: Python 2.7 reached the end of its life on January 1st, 2020. Please upgrade your Python as Python 2.7 is no longer maintained. pip 21.0 will drop support for Python 2.7 in January 2021. More details about Python 2 support in pip can be found at https://pip.pypa.io/en/latest/development/release-process/#python-2-support pip 21.0 will remove support for this functionality.\u001B[0m\r\n",
      "Collecting opencv-python==4.1.2.30\r\n",
      "  Downloading opencv_python-4.1.2.30-cp27-cp27m-macosx_10_9_x86_64.whl (45.2 MB)\r\n",
      "\u001B[K     |████████████████████████████████| 45.2 MB 1.2 MB/s eta 0:00:01\r\n",
      "\u001B[?25hRequirement already satisfied: numpy>=1.11.1 in /Users/matteorigat/Library/Python/2.7/lib/python/site-packages (from opencv-python==4.1.2.30) (1.16.6)\r\n",
      "Installing collected packages: opencv-python\r\n",
      "Successfully installed opencv-python-4.1.2.30\r\n"
     ]
    }
   ],
   "execution_count": 10
  }
 ],
 "metadata": {
  "kernelspec": {
   "display_name": "Python 2",
   "language": "python",
   "name": "python2"
  },
  "language_info": {
   "codemirror_mode": {
    "name": "ipython",
    "version": 2
   },
   "file_extension": ".py",
   "mimetype": "text/x-python",
   "name": "python",
   "nbconvert_exporter": "python",
   "pygments_lexer": "ipython2",
   "version": "2.7.6"
  }
 },
 "nbformat": 4,
 "nbformat_minor": 5
}
